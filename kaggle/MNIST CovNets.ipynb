{
 "cells": [
  {
   "cell_type": "code",
   "execution_count": 1,
   "metadata": {},
   "outputs": [],
   "source": [
    "import numpy as np\n",
    "import pandas as pd\n",
    "import tensorflow as tf\n",
    "from tensorflow import keras\n",
    "import matplotlib.pyplot as plt"
   ]
  },
  {
   "cell_type": "code",
   "execution_count": 2,
   "metadata": {},
   "outputs": [],
   "source": [
    "#Normalize the data between -1 and 1\n",
    "train = pd.read_csv('train.csv')\n",
    "test = pd.read_csv('test.csv')"
   ]
  },
  {
   "cell_type": "code",
   "execution_count": 3,
   "metadata": {},
   "outputs": [],
   "source": [
    "X = train.drop('label', axis=1)/255.0\n",
    "testX = test/255.0\n",
    "y = train.label"
   ]
  },
  {
   "cell_type": "code",
   "execution_count": 4,
   "metadata": {},
   "outputs": [],
   "source": [
    "np.random.seed(42)\n",
    "tf.random.set_seed(42)"
   ]
  },
  {
   "cell_type": "code",
   "execution_count": 5,
   "metadata": {},
   "outputs": [],
   "source": [
    "k = keras.backend"
   ]
  },
  {
   "cell_type": "code",
   "execution_count": 6,
   "metadata": {},
   "outputs": [],
   "source": [
    "k.clear_session()"
   ]
  },
  {
   "cell_type": "code",
   "execution_count": 7,
   "metadata": {},
   "outputs": [],
   "source": [
    "from sklearn.model_selection import train_test_split"
   ]
  },
  {
   "cell_type": "code",
   "execution_count": 8,
   "metadata": {},
   "outputs": [],
   "source": [
    "X_train, X_val, Y_train, Y_val = train_test_split(X,y, test_size=0.3, random_state=42)"
   ]
  },
  {
   "cell_type": "code",
   "execution_count": 9,
   "metadata": {},
   "outputs": [],
   "source": [
    "X_train, X_test, Y_train, Y_test = train_test_split(X_train, Y_train, test_size=0.1, random_state=42)"
   ]
  },
  {
   "cell_type": "code",
   "execution_count": 10,
   "metadata": {},
   "outputs": [],
   "source": [
    "X_train, X_val, X_test = tf.Variable(X_train), tf.Variable(X_val), tf.Variable(X_test)"
   ]
  },
  {
   "cell_type": "code",
   "execution_count": 11,
   "metadata": {},
   "outputs": [],
   "source": [
    "Xtrainpp = tf.reshape(X_train,[X_train.shape[0],28,28,1])\n",
    "Xvalpp = tf.reshape(X_val,[X_val.shape[0],28,28,1])\n",
    "Xtestpp = tf.reshape(X_test,[X_test.shape[0],28,28,1])"
   ]
  },
  {
   "cell_type": "code",
   "execution_count": 12,
   "metadata": {},
   "outputs": [],
   "source": [
    "testX = tf.reshape(testX, [testX.shape[0],28,28,1])"
   ]
  },
  {
   "cell_type": "code",
   "execution_count": 13,
   "metadata": {},
   "outputs": [],
   "source": [
    "my_callbacks = [\n",
    "    keras.callbacks.EarlyStopping(patience=5),\n",
    "    keras.callbacks.ReduceLROnPlateau(monitor='val_loss', factor=0.5, patience=3, min_lr=0.0001),\n",
    "]"
   ]
  },
  {
   "cell_type": "code",
   "execution_count": 14,
   "metadata": {},
   "outputs": [],
   "source": [
    "#Simple CNN -> VGG\n",
    "\n",
    "from functools import partial\n",
    "\n",
    "Default2D = partial(keras.layers.Conv2D, kernel_size=3, activation = 'relu', padding='SAME')\n",
    "MaxPool2D = partial(keras.layers.MaxPool2D, pool_size=2)"
   ]
  },
  {
   "cell_type": "code",
   "execution_count": 15,
   "metadata": {},
   "outputs": [],
   "source": [
    "model_vgg = keras.models.Sequential([Default2D(filters=32, kernel_size=5, input_shape=[28,28,1]),\n",
    "                                    MaxPool2D(),\n",
    "                                    Default2D(filters=64),\n",
    "                                    MaxPool2D(),\n",
    "                                    Default2D(filters=128),\n",
    "                                    MaxPool2D(),\n",
    "                                    Default2D(filters=256, kernel_size=2),\n",
    "                                    MaxPool2D(),\n",
    "                                    \n",
    "                                    keras.layers.Flatten(),\n",
    "                                    keras.layers.Dense(50, activation='relu'),\n",
    "                                    keras.layers.Dropout(0.2),\n",
    "                                    keras.layers.Dense(25, activation='relu'),\n",
    "                                    keras.layers.Dropout(0.2),\n",
    "                                    keras.layers.Dense(10,activation='softmax')\n",
    "                                    ]\n",
    ")"
   ]
  },
  {
   "cell_type": "code",
   "execution_count": 16,
   "metadata": {},
   "outputs": [
    {
     "name": "stdout",
     "output_type": "stream",
     "text": [
      "Model: \"sequential\"\n",
      "_________________________________________________________________\n",
      "Layer (type)                 Output Shape              Param #   \n",
      "=================================================================\n",
      "conv2d (Conv2D)              (None, 28, 28, 32)        832       \n",
      "_________________________________________________________________\n",
      "max_pooling2d (MaxPooling2D) (None, 14, 14, 32)        0         \n",
      "_________________________________________________________________\n",
      "conv2d_1 (Conv2D)            (None, 14, 14, 64)        18496     \n",
      "_________________________________________________________________\n",
      "max_pooling2d_1 (MaxPooling2 (None, 7, 7, 64)          0         \n",
      "_________________________________________________________________\n",
      "conv2d_2 (Conv2D)            (None, 7, 7, 128)         73856     \n",
      "_________________________________________________________________\n",
      "max_pooling2d_2 (MaxPooling2 (None, 3, 3, 128)         0         \n",
      "_________________________________________________________________\n",
      "conv2d_3 (Conv2D)            (None, 3, 3, 256)         131328    \n",
      "_________________________________________________________________\n",
      "max_pooling2d_3 (MaxPooling2 (None, 1, 1, 256)         0         \n",
      "_________________________________________________________________\n",
      "flatten (Flatten)            (None, 256)               0         \n",
      "_________________________________________________________________\n",
      "dense (Dense)                (None, 50)                12850     \n",
      "_________________________________________________________________\n",
      "dropout (Dropout)            (None, 50)                0         \n",
      "_________________________________________________________________\n",
      "dense_1 (Dense)              (None, 25)                1275      \n",
      "_________________________________________________________________\n",
      "dropout_1 (Dropout)          (None, 25)                0         \n",
      "_________________________________________________________________\n",
      "dense_2 (Dense)              (None, 10)                260       \n",
      "=================================================================\n",
      "Total params: 238,897\n",
      "Trainable params: 238,897\n",
      "Non-trainable params: 0\n",
      "_________________________________________________________________\n"
     ]
    }
   ],
   "source": [
    "model_vgg.summary()"
   ]
  },
  {
   "cell_type": "code",
   "execution_count": 19,
   "metadata": {},
   "outputs": [],
   "source": [
    "model_vgg.compile(loss='sparse_categorical_crossentropy', metrics=['accuracy'],optimizer='nadam')"
   ]
  },
  {
   "cell_type": "code",
   "execution_count": 20,
   "metadata": {},
   "outputs": [
    {
     "name": "stdout",
     "output_type": "stream",
     "text": [
      "Epoch 1/20\n",
      "827/827 [==============================] - 4s 4ms/step - loss: 0.4990 - accuracy: 0.8364 - val_loss: 0.0897 - val_accuracy: 0.9731\n",
      "Epoch 2/20\n",
      "827/827 [==============================] - 3s 4ms/step - loss: 0.1160 - accuracy: 0.9695 - val_loss: 0.0757 - val_accuracy: 0.9803\n",
      "Epoch 3/20\n",
      "827/827 [==============================] - 3s 4ms/step - loss: 0.0749 - accuracy: 0.9809 - val_loss: 0.0699 - val_accuracy: 0.9840\n",
      "Epoch 4/20\n",
      "827/827 [==============================] - 3s 4ms/step - loss: 0.0618 - accuracy: 0.9845 - val_loss: 0.0653 - val_accuracy: 0.9839\n",
      "Epoch 5/20\n",
      "827/827 [==============================] - 3s 4ms/step - loss: 0.0509 - accuracy: 0.9877 - val_loss: 0.0635 - val_accuracy: 0.9851\n",
      "Epoch 6/20\n",
      "827/827 [==============================] - 3s 4ms/step - loss: 0.0409 - accuracy: 0.9899 - val_loss: 0.0544 - val_accuracy: 0.9861\n",
      "Epoch 7/20\n",
      "827/827 [==============================] - 3s 4ms/step - loss: 0.0395 - accuracy: 0.9900 - val_loss: 0.0509 - val_accuracy: 0.9888\n",
      "Epoch 8/20\n",
      "827/827 [==============================] - 3s 4ms/step - loss: 0.0321 - accuracy: 0.9919 - val_loss: 0.0554 - val_accuracy: 0.9874\n",
      "Epoch 9/20\n",
      "827/827 [==============================] - 3s 4ms/step - loss: 0.0276 - accuracy: 0.9927 - val_loss: 0.0600 - val_accuracy: 0.9860\n",
      "Epoch 10/20\n",
      "827/827 [==============================] - 3s 4ms/step - loss: 0.0283 - accuracy: 0.9927 - val_loss: 0.0521 - val_accuracy: 0.9889\n",
      "Epoch 11/20\n",
      "827/827 [==============================] - 3s 4ms/step - loss: 0.0134 - accuracy: 0.9964 - val_loss: 0.0623 - val_accuracy: 0.9898\n",
      "Epoch 12/20\n",
      "827/827 [==============================] - 3s 4ms/step - loss: 0.0104 - accuracy: 0.9974 - val_loss: 0.0709 - val_accuracy: 0.9894\n"
     ]
    }
   ],
   "source": [
    "history_vgg = model_vgg.fit(Xtrainpp,Y_train,epochs=20, validation_data=(Xvalpp,Y_val), callbacks=my_callbacks)"
   ]
  },
  {
   "cell_type": "code",
   "execution_count": 21,
   "metadata": {},
   "outputs": [
    {
     "name": "stdout",
     "output_type": "stream",
     "text": [
      "92/92 [==============================] - 0s 2ms/step - loss: 0.0913 - accuracy: 0.9888\n"
     ]
    },
    {
     "data": {
      "text/plain": [
       "[0.09133099764585495, 0.9887754917144775]"
      ]
     },
     "execution_count": 21,
     "metadata": {},
     "output_type": "execute_result"
    }
   ],
   "source": [
    "model_vgg.evaluate(Xtestpp,Y_test)"
   ]
  },
  {
   "cell_type": "code",
   "execution_count": 22,
   "metadata": {},
   "outputs": [],
   "source": [
    "model_vgg.save('mnist_cnn_vgg_9887_009.h5')"
   ]
  },
  {
   "cell_type": "code",
   "execution_count": 23,
   "metadata": {},
   "outputs": [],
   "source": [
    "#Inception CNN -> GoogleNet"
   ]
  },
  {
   "cell_type": "code",
   "execution_count": 24,
   "metadata": {},
   "outputs": [],
   "source": [
    "class Inception2d(keras.layers.Layer):\n",
    "    def __init__(self,f11,f311,f333,f511,f555,fMP11,**kwargs):\n",
    "        super().__init__(**kwargs)\n",
    "        self.f11 = f11\n",
    "        self.f311 = f311\n",
    "        self.f333 = f333\n",
    "        self.f511 = f511\n",
    "        self.f555 = f555\n",
    "        self.fMP11 = fMP11\n",
    "        \n",
    "        self.Conv1x1 = keras.layers.Conv2D(filters=self.f11,kernel_size=1, activation='relu', padding= 'same')\n",
    "        self.Conv3SL1x1 = keras.layers.Conv2D(filters=self.f333, kernel_size=3, activation='relu', padding ='same')\n",
    "        self.Conv3SL3x3 = keras.layers.Conv2D(filters=self.f333,kernel_size=3,activation='relu',padding='same')\n",
    "        self.Conv5SL1x1 = keras.layers.Conv2D(filters=self.f511,kernel_size=1,activation='relu',padding='same')\n",
    "        self.Conv5SL5x5 = keras.layers.Conv2D(filters=self.f555,kernel_size=5,activation='relu',padding='same')\n",
    "        self.MaxPool = keras.layers.MaxPooling2D(pool_size=3,strides=1,padding='same')\n",
    "        self.ConvMP1x1 = keras.layers.Conv2D(filters=self.fMP11,kernel_size=1,activation='relu',padding='same')\n",
    "        \n",
    "    def call(self,inputs):\n",
    "        #1x1 Input\n",
    "        out11 = self.Conv1x1(inputs)\n",
    "        \n",
    "        #Smart Layer inputs (1x1) and (3x3)\n",
    "        x=self.Conv1x1(inputs)\n",
    "        out33=self.Conv3SL1x1(x)\n",
    "        \n",
    "        #Smart Layer inputs (1x1) and (5x5)\n",
    "        x=self.Conv1x1(inputs)\n",
    "        out55=self.Conv5SL1x1(x)\n",
    "        \n",
    "        #Input via Max Pool\n",
    "        x=self.MaxPool(inputs)\n",
    "        outMP11=self.ConvMP1x1(x)\n",
    "        \n",
    "        #outputs\n",
    "        output=keras.layers.Concatenate(axis=-1)([out11,out33,out55,outMP11])\n",
    "        \n",
    "        return output\n",
    "    \n",
    "    def get_config(self):\n",
    "        base_config = super().get_config()\n",
    "        return {**base_config, 'f11':self.f11, 'f311':self.f311, 'f333':self.f333,\n",
    "                'f511': self.f511, 'f555': self.f555, 'fMP11': self.fMP11\n",
    "            \n",
    "        }\n",
    "                                         "
   ]
  },
  {
   "cell_type": "code",
   "execution_count": 27,
   "metadata": {},
   "outputs": [],
   "source": [
    "from functools import partial\n",
    "Default2D=partial(keras.layers.Conv2D,kernel_size=3,activation='relu',padding='same')\n",
    "MaxPool2D=partial(keras.layers.MaxPool2D,pool_size=2,padding='same')\n",
    "model_gnet=keras.models.Sequential([\n",
    "    Default2D(filters=64,kernel_size=7,input_shape=[28,28,1]),\n",
    "    MaxPool2D(),\n",
    "    Default2D(filters=32,kernel_size=1),\n",
    "    Default2D(filters=128),\n",
    "    MaxPool2D(),\n",
    "    Inception2d(f11=32,f311=16,f333=64,f511=16,f555=32,fMP11=16),\n",
    "    Inception2d(f11=64,f311=32,f333=96,f511=32,f555=64,fMP11=32),\n",
    "    MaxPool2D(),\n",
    "    Inception2d(f11=96,f311=64,f333=108,f511=64,f555=96,fMP11=64),\n",
    "    Inception2d(f11=108,f311=96,f333=128,f511=64,f555=108,fMP11=64),\n",
    "    MaxPool2D(),\n",
    "    keras.layers.Flatten(),\n",
    "    keras.layers.Dense(90,activation='relu'),\n",
    "    keras.layers.Dense(45,activation='relu'),\n",
    "    keras.layers.Dense(10,activation='softmax')\n",
    "])"
   ]
  },
  {
   "cell_type": "code",
   "execution_count": 28,
   "metadata": {},
   "outputs": [
    {
     "name": "stdout",
     "output_type": "stream",
     "text": [
      "Model: \"sequential_1\"\n",
      "_________________________________________________________________\n",
      "Layer (type)                 Output Shape              Param #   \n",
      "=================================================================\n",
      "conv2d_10 (Conv2D)           (None, 28, 28, 64)        3200      \n",
      "_________________________________________________________________\n",
      "max_pooling2d_8 (MaxPooling2 (None, 14, 14, 64)        0         \n",
      "_________________________________________________________________\n",
      "conv2d_11 (Conv2D)           (None, 14, 14, 32)        2080      \n",
      "_________________________________________________________________\n",
      "conv2d_12 (Conv2D)           (None, 14, 14, 128)       36992     \n",
      "_________________________________________________________________\n",
      "max_pooling2d_9 (MaxPooling2 (None, 7, 7, 128)         0         \n",
      "_________________________________________________________________\n",
      "inception2d (Inception2d)    (None, 7, 7, 128)         25216     \n",
      "_________________________________________________________________\n",
      "inception2d_1 (Inception2d)  (None, 7, 7, 224)         69856     \n",
      "_________________________________________________________________\n",
      "max_pooling2d_12 (MaxPooling (None, 4, 4, 224)         0         \n",
      "_________________________________________________________________\n",
      "inception2d_2 (Inception2d)  (None, 4, 4, 332)         135628    \n",
      "_________________________________________________________________\n",
      "inception2d_3 (Inception2d)  (None, 4, 4, 364)         188796    \n",
      "_________________________________________________________________\n",
      "max_pooling2d_15 (MaxPooling (None, 2, 2, 364)         0         \n",
      "_________________________________________________________________\n",
      "flatten_1 (Flatten)          (None, 1456)              0         \n",
      "_________________________________________________________________\n",
      "dense_3 (Dense)              (None, 90)                131130    \n",
      "_________________________________________________________________\n",
      "dense_4 (Dense)              (None, 45)                4095      \n",
      "_________________________________________________________________\n",
      "dense_5 (Dense)              (None, 10)                460       \n",
      "=================================================================\n",
      "Total params: 597,453\n",
      "Trainable params: 597,453\n",
      "Non-trainable params: 0\n",
      "_________________________________________________________________\n"
     ]
    }
   ],
   "source": [
    "model_gnet.summary()"
   ]
  },
  {
   "cell_type": "code",
   "execution_count": 29,
   "metadata": {},
   "outputs": [],
   "source": [
    "model_gnet.compile(loss='sparse_categorical_crossentropy',metrics=['accuracy'],optimizer='nadam')"
   ]
  },
  {
   "cell_type": "code",
   "execution_count": 31,
   "metadata": {},
   "outputs": [
    {
     "name": "stdout",
     "output_type": "stream",
     "text": [
      "Epoch 1/20\n",
      "827/827 [==============================] - 10s 12ms/step - loss: 0.4089 - accuracy: 0.8632 - val_loss: 0.1074 - val_accuracy: 0.9680\n",
      "Epoch 2/20\n",
      "827/827 [==============================] - 9s 11ms/step - loss: 0.0862 - accuracy: 0.9741 - val_loss: 0.0679 - val_accuracy: 0.9799\n",
      "Epoch 3/20\n",
      "827/827 [==============================] - 9s 11ms/step - loss: 0.0647 - accuracy: 0.9804 - val_loss: 0.0597 - val_accuracy: 0.9817\n",
      "Epoch 4/20\n",
      "827/827 [==============================] - 9s 11ms/step - loss: 0.0582 - accuracy: 0.9819 - val_loss: 0.0954 - val_accuracy: 0.9743\n",
      "Epoch 5/20\n",
      "827/827 [==============================] - 9s 11ms/step - loss: 0.0501 - accuracy: 0.9851 - val_loss: 0.0966 - val_accuracy: 0.9720\n",
      "Epoch 6/20\n",
      "827/827 [==============================] - 9s 11ms/step - loss: 0.0408 - accuracy: 0.9882 - val_loss: 0.0758 - val_accuracy: 0.9790\n",
      "Epoch 7/20\n",
      "827/827 [==============================] - 9s 11ms/step - loss: 0.0198 - accuracy: 0.9938 - val_loss: 0.0442 - val_accuracy: 0.9882\n",
      "Epoch 8/20\n",
      "827/827 [==============================] - 9s 11ms/step - loss: 0.0155 - accuracy: 0.9954 - val_loss: 0.0420 - val_accuracy: 0.9892\n",
      "Epoch 9/20\n",
      "827/827 [==============================] - 9s 11ms/step - loss: 0.0134 - accuracy: 0.9957 - val_loss: 0.0491 - val_accuracy: 0.9863\n",
      "Epoch 10/20\n",
      "827/827 [==============================] - 9s 11ms/step - loss: 0.0169 - accuracy: 0.9946 - val_loss: 0.0481 - val_accuracy: 0.9882\n",
      "Epoch 11/20\n",
      "827/827 [==============================] - 9s 11ms/step - loss: 0.0138 - accuracy: 0.9955 - val_loss: 0.0458 - val_accuracy: 0.9897\n",
      "Epoch 12/20\n",
      "827/827 [==============================] - 9s 11ms/step - loss: 0.0044 - accuracy: 0.9988 - val_loss: 0.0454 - val_accuracy: 0.9889\n",
      "Epoch 13/20\n",
      "827/827 [==============================] - 9s 11ms/step - loss: 0.0019 - accuracy: 0.9995 - val_loss: 0.0525 - val_accuracy: 0.9898\n"
     ]
    }
   ],
   "source": [
    "history_gnet=model_gnet.fit(Xtrainpp,Y_train,epochs=20,validation_data=(Xvalpp,Y_val),callbacks=my_callbacks)"
   ]
  },
  {
   "cell_type": "code",
   "execution_count": 32,
   "metadata": {},
   "outputs": [
    {
     "name": "stdout",
     "output_type": "stream",
     "text": [
      "92/92 [==============================] - 0s 3ms/step - loss: 0.0417 - accuracy: 0.9922\n"
     ]
    },
    {
     "data": {
      "text/plain": [
       "[0.041687507182359695, 0.99217689037323]"
      ]
     },
     "execution_count": 32,
     "metadata": {},
     "output_type": "execute_result"
    }
   ],
   "source": [
    "model_gnet.evaluate(Xtestpp,Y_test)"
   ]
  },
  {
   "cell_type": "code",
   "execution_count": 33,
   "metadata": {},
   "outputs": [],
   "source": [
    "model_gnet.save('mnist_cnn_inception_992_004.h5')"
   ]
  },
  {
   "cell_type": "code",
   "execution_count": 34,
   "metadata": {},
   "outputs": [],
   "source": [
    "#Residual Module -> ResNet"
   ]
  },
  {
   "cell_type": "code",
   "execution_count": 35,
   "metadata": {},
   "outputs": [],
   "source": [
    "class ResidualBlock(keras.layers.Layer):\n",
    "    def __init__(self,filters,strides=1,activation='relu',**kwargs):\n",
    "        super().__init__(**kwargs)\n",
    "        self.filters=filters\n",
    "        self.strides=strides\n",
    "        self.activation=keras.activations.get(activation)\n",
    "        self.main_layers=[\n",
    "            keras.layers.Conv2D(filters,2,strides=strides,padding='same',use_bias=False),\n",
    "            keras.layers.BatchNormalization(),\n",
    "            self.activation,\n",
    "            keras.layers.Conv2D(filters,2,strides=1,padding='same',use_bias=False),\n",
    "            keras.layers.BatchNormalization()\n",
    "        ]\n",
    "        self.skip_layers=[]\n",
    "        if strides>1:\n",
    "            self.skip_layers=[\n",
    "                keras.layers.Conv2D(filters,1,strides=strides,padding='same',use_bias=False),\n",
    "                keras.layers.BatchNormalization()\n",
    "            ]\n",
    "    def call(self,inputs):\n",
    "        Z=inputs\n",
    "        for layer in self.main_layers:\n",
    "            Z=layer(Z)\n",
    "        skip_Z=inputs\n",
    "        for layer in self.skip_layers:\n",
    "            skip_Z=layer(skip_Z)\n",
    "        return self.activation(Z+skip_Z)\n",
    "    \n",
    "    def get_config(self):\n",
    "        base_config=super().get_config()\n",
    "        return {**base_config,\"filters\":self.filters,\"strides\":self.strides,\"activation\":keras.activations.serialize(self.activation)}"
   ]
  },
  {
   "cell_type": "code",
   "execution_count": 36,
   "metadata": {},
   "outputs": [],
   "source": [
    "Default2D=partial(keras.layers.Conv2D,kernel_size=3,activation='relu',padding='same')\n",
    "MaxPool2D=partial(keras.layers.MaxPool2D,pool_size=2,padding='same')\n",
    "model_rnet=keras.models.Sequential([\n",
    "    Default2D(filters=32,kernel_size=5,input_shape=[28,28,1]),\n",
    "    MaxPool2D(),\n",
    "    ResidualBlock(filters=64,strides=2),\n",
    "    ResidualBlock(filters=64),\n",
    "    ResidualBlock(filters=128,strides=2),\n",
    "    ResidualBlock(filters=128),\n",
    "    MaxPool2D(),\n",
    "    keras.layers.Flatten(),\n",
    "    keras.layers.Dense(50,activation='relu'),\n",
    "    keras.layers.Dense(25,activation='relu'),\n",
    "    keras.layers.Dense(10,activation='softmax')\n",
    "])"
   ]
  },
  {
   "cell_type": "code",
   "execution_count": 37,
   "metadata": {},
   "outputs": [
    {
     "name": "stdout",
     "output_type": "stream",
     "text": [
      "Model: \"sequential_2\"\n",
      "_________________________________________________________________\n",
      "Layer (type)                 Output Shape              Param #   \n",
      "=================================================================\n",
      "conv2d_37 (Conv2D)           (None, 28, 28, 32)        832       \n",
      "_________________________________________________________________\n",
      "max_pooling2d_16 (MaxPooling (None, 14, 14, 32)        0         \n",
      "_________________________________________________________________\n",
      "residual_block (ResidualBloc (None, 7, 7, 64)          27392     \n",
      "_________________________________________________________________\n",
      "residual_block_1 (ResidualBl (None, 7, 7, 64)          33280     \n",
      "_________________________________________________________________\n",
      "residual_block_2 (ResidualBl (None, 4, 4, 128)         108032    \n",
      "_________________________________________________________________\n",
      "residual_block_3 (ResidualBl (None, 4, 4, 128)         132096    \n",
      "_________________________________________________________________\n",
      "max_pooling2d_17 (MaxPooling (None, 2, 2, 128)         0         \n",
      "_________________________________________________________________\n",
      "flatten_2 (Flatten)          (None, 512)               0         \n",
      "_________________________________________________________________\n",
      "dense_6 (Dense)              (None, 50)                25650     \n",
      "_________________________________________________________________\n",
      "dense_7 (Dense)              (None, 25)                1275      \n",
      "_________________________________________________________________\n",
      "dense_8 (Dense)              (None, 10)                260       \n",
      "=================================================================\n",
      "Total params: 328,817\n",
      "Trainable params: 326,897\n",
      "Non-trainable params: 1,920\n",
      "_________________________________________________________________\n"
     ]
    }
   ],
   "source": [
    "model_rnet.summary()"
   ]
  },
  {
   "cell_type": "code",
   "execution_count": 38,
   "metadata": {},
   "outputs": [],
   "source": [
    "model_rnet.compile(loss='sparse_categorical_crossentropy',metrics=['accuracy'],optimizer='nadam')"
   ]
  },
  {
   "cell_type": "code",
   "execution_count": 39,
   "metadata": {},
   "outputs": [
    {
     "name": "stdout",
     "output_type": "stream",
     "text": [
      "Epoch 1/20\n",
      "827/827 [==============================] - 6s 7ms/step - loss: 0.2227 - accuracy: 0.9308 - val_loss: 0.0941 - val_accuracy: 0.9710\n",
      "Epoch 2/20\n",
      "827/827 [==============================] - 6s 7ms/step - loss: 0.0738 - accuracy: 0.9769 - val_loss: 0.0839 - val_accuracy: 0.9758\n",
      "Epoch 3/20\n",
      "827/827 [==============================] - 6s 7ms/step - loss: 0.0537 - accuracy: 0.9839 - val_loss: 0.1201 - val_accuracy: 0.9644\n",
      "Epoch 4/20\n",
      "827/827 [==============================] - 6s 7ms/step - loss: 0.0455 - accuracy: 0.9864 - val_loss: 0.0483 - val_accuracy: 0.9851\n",
      "Epoch 5/20\n",
      "827/827 [==============================] - 6s 7ms/step - loss: 0.0359 - accuracy: 0.9887 - val_loss: 0.0725 - val_accuracy: 0.9775\n",
      "Epoch 6/20\n",
      "827/827 [==============================] - 6s 7ms/step - loss: 0.0334 - accuracy: 0.9897 - val_loss: 0.0449 - val_accuracy: 0.9868\n",
      "Epoch 7/20\n",
      "827/827 [==============================] - 6s 7ms/step - loss: 0.0303 - accuracy: 0.9908 - val_loss: 0.0633 - val_accuracy: 0.9826\n",
      "Epoch 8/20\n",
      "827/827 [==============================] - 6s 7ms/step - loss: 0.0271 - accuracy: 0.9913 - val_loss: 0.0608 - val_accuracy: 0.9837\n",
      "Epoch 9/20\n",
      "827/827 [==============================] - 6s 7ms/step - loss: 0.0246 - accuracy: 0.9918 - val_loss: 0.0895 - val_accuracy: 0.9767\n",
      "Epoch 10/20\n",
      "827/827 [==============================] - 6s 7ms/step - loss: 0.0080 - accuracy: 0.9974 - val_loss: 0.0382 - val_accuracy: 0.9894\n",
      "Epoch 11/20\n",
      "827/827 [==============================] - 6s 7ms/step - loss: 0.0046 - accuracy: 0.9983 - val_loss: 0.0420 - val_accuracy: 0.9887\n",
      "Epoch 12/20\n",
      "827/827 [==============================] - 6s 7ms/step - loss: 0.0043 - accuracy: 0.9989 - val_loss: 0.0468 - val_accuracy: 0.9890\n",
      "Epoch 13/20\n",
      "827/827 [==============================] - 6s 7ms/step - loss: 0.0088 - accuracy: 0.9976 - val_loss: 0.0657 - val_accuracy: 0.9851\n",
      "Epoch 14/20\n",
      "827/827 [==============================] - 6s 7ms/step - loss: 0.0021 - accuracy: 0.9995 - val_loss: 0.0358 - val_accuracy: 0.9921\n",
      "Epoch 15/20\n",
      "827/827 [==============================] - 6s 7ms/step - loss: 4.6817e-04 - accuracy: 0.9999 - val_loss: 0.0405 - val_accuracy: 0.9913\n",
      "Epoch 16/20\n",
      "827/827 [==============================] - 6s 7ms/step - loss: 3.3094e-04 - accuracy: 0.9999 - val_loss: 0.0393 - val_accuracy: 0.9921\n",
      "Epoch 17/20\n",
      "827/827 [==============================] - 6s 7ms/step - loss: 0.0013 - accuracy: 0.9995 - val_loss: 0.0542 - val_accuracy: 0.9897\n",
      "Epoch 18/20\n",
      "827/827 [==============================] - 6s 7ms/step - loss: 9.2272e-04 - accuracy: 0.9997 - val_loss: 0.0477 - val_accuracy: 0.9904\n",
      "Epoch 19/20\n",
      "827/827 [==============================] - 6s 7ms/step - loss: 2.0992e-04 - accuracy: 1.0000 - val_loss: 0.0432 - val_accuracy: 0.9915\n"
     ]
    }
   ],
   "source": [
    "history_rnet=model_rnet.fit(Xtrainpp,Y_train,epochs=20,validation_data=(Xvalpp,Y_val),callbacks=my_callbacks)"
   ]
  },
  {
   "cell_type": "code",
   "execution_count": 40,
   "metadata": {},
   "outputs": [
    {
     "name": "stdout",
     "output_type": "stream",
     "text": [
      "92/92 [==============================] - 0s 2ms/step - loss: 0.0454 - accuracy: 0.9901\n"
     ]
    },
    {
     "data": {
      "text/plain": [
       "[0.0454375334084034, 0.9901360273361206]"
      ]
     },
     "execution_count": 40,
     "metadata": {},
     "output_type": "execute_result"
    }
   ],
   "source": [
    "model_rnet.evaluate(Xtestpp,Y_test)"
   ]
  },
  {
   "cell_type": "code",
   "execution_count": 41,
   "metadata": {},
   "outputs": [],
   "source": [
    "model_rnet.save('mnist_cnn_resnet_990_004.h5')"
   ]
  },
  {
   "cell_type": "code",
   "execution_count": null,
   "metadata": {},
   "outputs": [],
   "source": []
  }
 ],
 "metadata": {
  "kernelspec": {
   "display_name": "Python 3",
   "language": "python",
   "name": "python3"
  },
  "language_info": {
   "codemirror_mode": {
    "name": "ipython",
    "version": 3
   },
   "file_extension": ".py",
   "mimetype": "text/x-python",
   "name": "python",
   "nbconvert_exporter": "python",
   "pygments_lexer": "ipython3",
   "version": "3.7.6"
  }
 },
 "nbformat": 4,
 "nbformat_minor": 4
}
